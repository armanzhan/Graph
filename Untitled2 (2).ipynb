{
  "nbformat": 4,
  "nbformat_minor": 0,
  "metadata": {
    "colab": {
      "provenance": [],
      "collapsed_sections": [
        "El5wsqqWp2AI",
        "TMwXjarP31I2",
        "KMMVVNiS5INl",
        "hbmHndXQZdI1",
        "gNB1GIeZGW6Y",
        "sfhkU9z9ASKd"
      ]
    },
    "kernelspec": {
      "name": "python3",
      "display_name": "Python 3"
    },
    "language_info": {
      "name": "python"
    }
  },
  "cells": [
    {
      "cell_type": "code",
      "execution_count": 1,
      "metadata": {
        "id": "FAPpSr_03tut"
      },
      "outputs": [],
      "source": [
        "# Импортируем библиотеку для работы с графами и не только\n",
        "import random\n",
        "import networkx as nx\n",
        "import networkx.algorithms.community as nx_comm\n",
        "import numpy as np\n",
        "import pandas as pd\n",
        "from numpy import linalg as LA\n",
        "import math\n",
        "\n",
        "%matplotlib inline\n",
        "import matplotlib.pyplot as plt\n",
        "\n",
        "from typing import TypeVar, Generic, List, Tuple, Union, Literal\n",
        "from abc import ABC, abstractmethod\n",
        "T = TypeVar('T')  # Определяем типовой переменной T\n",
        "\n",
        "from sklearn.model_selection import train_test_split\n",
        "from sklearn.linear_model import LogisticRegression\n",
        "from sklearn.metrics import accuracy_score\n",
        "import random\n",
        "\n",
        "from sklearn.metrics import roc_curve, auc"
      ]
    },
    {
      "cell_type": "markdown",
      "source": [
        "# Подготовка"
      ],
      "metadata": {
        "id": "El5wsqqWp2AI"
      }
    },
    {
      "cell_type": "markdown",
      "source": [
        "## Извлечение графа и компонент связности"
      ],
      "metadata": {
        "id": "TMwXjarP31I2"
      }
    },
    {
      "cell_type": "code",
      "source": [
        "G = nx.Graph()\n",
        "\n",
        "# Читаем граф\n",
        "with open('/content/CollegeMsg.txt', 'r') as file:\n",
        "#with open('/content/sx-mathoverflow.txt', 'r') as file:\n",
        "#with open('/content/network0.csv', 'r') as file:\n",
        "    for line in file:\n",
        "        # Split the line into source, destination, and timestamp\n",
        "        source, destination, timestamp = map(int, line.split())\n",
        "        # Add an edge to the graph (including timestamp)\n",
        "        G.add_edge(source, destination, timestamp = timestamp)\n",
        "\n",
        "# Базовое инфо о графе\n",
        "print(G)\n",
        "\n",
        "# Список компонент связности\n",
        "connected_components = list(nx.connected_components(G))\n",
        "\n",
        "# Самая крупная\n",
        "largest_component = max(connected_components, key=len)\n",
        "  # Удаляем петли\n",
        "\n",
        "# Создание подграфа\n",
        "F = G.subgraph(largest_component).copy()"
      ],
      "metadata": {
        "colab": {
          "base_uri": "https://localhost:8080/"
        },
        "id": "ag8bnNnk4HM3",
        "outputId": "dc48e43a-517e-48a9-ae6c-4f93541042d2"
      },
      "execution_count": 2,
      "outputs": [
        {
          "output_type": "stream",
          "name": "stdout",
          "text": [
            "Graph with 1899 nodes and 13838 edges\n"
          ]
        }
      ]
    },
    {
      "cell_type": "code",
      "source": [
        "'''import csv\n",
        "with open('/content/network0.csv', 'r') as file:\n",
        "    reader = csv.reader(file)\n",
        "    header = next(reader)  # Пропускаем заголовок, если он есть\n",
        "    for row in reader:\n",
        "        if len(row) < 3:  # Убедитесь, что в строке достаточно элементов\n",
        "            print(f\"Неправильный формат строки: {row}\")\n",
        "            continue\n",
        "        print(row)\n",
        "        try:\n",
        "            timestamp = int(row[0])  # Пробуем преобразовать в int\n",
        "            source = int(row[1])\n",
        "            destination = int(row[2])\n",
        "            # Добавляем ребро в граф (включая timestamp)\n",
        "            G.add_edge(source, destination, timestamp=timestamp)\n",
        "        except ValueError as e:\n",
        "            print(f\"Ошибка преобразования для строки: {row}. Ошибка: {e}\")'''"
      ],
      "metadata": {
        "colab": {
          "base_uri": "https://localhost:8080/",
          "height": 0
        },
        "id": "J_f45A0pE-g4",
        "outputId": "6fbe3ff5-efe8-48ae-db2e-89c8e9f6e6fd"
      },
      "execution_count": 3,
      "outputs": [
        {
          "output_type": "execute_result",
          "data": {
            "text/plain": [
              "'import csv\\nwith open(\\'/content/network0.csv\\', \\'r\\') as file:\\n    reader = csv.reader(file)\\n    header = next(reader)  # Пропускаем заголовок, если он есть\\n    for row in reader:\\n        if len(row) < 3:  # Убедитесь, что в строке достаточно элементов\\n            print(f\"Неправильный формат строки: {row}\")\\n            continue\\n        print(row)\\n        try:\\n            timestamp = int(row[0])  # Пробуем преобразовать в int\\n            source = int(row[1])\\n            destination = int(row[2])\\n            # Добавляем ребро в граф (включая timestamp)\\n            G.add_edge(source, destination, timestamp=timestamp)\\n        except ValueError as e:\\n            print(f\"Ошибка преобразования для строки: {row}. Ошибка: {e}\")'"
            ],
            "application/vnd.google.colaboratory.intrinsic+json": {
              "type": "string"
            }
          },
          "metadata": {},
          "execution_count": 3
        }
      ]
    },
    {
      "cell_type": "markdown",
      "source": [
        "## Диапазон существования\n"
      ],
      "metadata": {
        "id": "pC8w1hwV4Y2p"
      }
    },
    {
      "cell_type": "code",
      "source": [
        "# Время существования графа\n",
        "times = [data['timestamp'] for _, _, data in G.edges(data=True)]\n",
        "time_max = max(times)\n",
        "time_min = min(times)\n",
        "print(time_max)\n",
        "print(time_min)\n",
        "\n",
        "time_percentile = np.percentile(times, 75)\n",
        "\n",
        "# Выводим результат\n",
        "print(f\"70-й процентиль времени: {time_percentile}\")"
      ],
      "metadata": {
        "colab": {
          "base_uri": "https://localhost:8080/"
        },
        "id": "NunlkAQq4Yaj",
        "outputId": "b869f988-4403-49b8-eddc-22b528790c0a"
      },
      "execution_count": 4,
      "outputs": [
        {
          "output_type": "stream",
          "name": "stdout",
          "text": [
            "1098777142\n",
            "1082040961\n",
            "70-й процентиль времени: 1086493067.25\n"
          ]
        }
      ]
    },
    {
      "cell_type": "markdown",
      "source": [
        "## Создание обучающей и тестовой выборок\n"
      ],
      "metadata": {
        "id": "GQ650hzw4pr_"
      }
    },
    {
      "cell_type": "code",
      "source": [
        "edu_F = nx.Graph()\n",
        "test_F = nx.Graph()\n",
        "# Копирование узлов\n",
        "edu_F.add_nodes_from(F)\n",
        "test_F.add_nodes_from(F)\n",
        "# отбрасывание узлов не входящих в 70-перцентиль\n",
        "for u, v, data in F.edges(data=True):\n",
        "  if data['timestamp'] <= time_percentile:\n",
        "    edu_F.add_edge(u, v, timestamp=data['timestamp'])\n",
        "  else:\n",
        "    test_F.add_edge(u, v, timestamp=data['timestamp'])"
      ],
      "metadata": {
        "id": "_hzSkwZS4qwe"
      },
      "execution_count": 5,
      "outputs": []
    },
    {
      "cell_type": "markdown",
      "source": [
        "# Алгоритмы вычисления топологических признаков"
      ],
      "metadata": {
        "id": "MeBd0NJu49t2"
      }
    },
    {
      "cell_type": "markdown",
      "source": [
        "## Метаданные вычислений"
      ],
      "metadata": {
        "id": "KMMVVNiS5INl"
      }
    },
    {
      "cell_type": "code",
      "source": [
        "class CalculationStrategy(ABC):\n",
        "  '''\n",
        "  Метаданные вычислений\n",
        "  '''\n",
        "  @abstractmethod\n",
        "  def common_neighbors(*args, **kwargs) -> float:\n",
        "    pass\n",
        "  @abstractmethod\n",
        "  def adamic_adar(*args, **kwargs) -> float:\n",
        "    pass\n",
        "  @abstractmethod\n",
        "  def jaccard_coef(*args, **kwargs) -> float:\n",
        "    pass\n",
        "  @abstractmethod\n",
        "  def preferential_attachment(*args, **kwargs) -> float:\n",
        "    pass\n",
        "\n",
        "  @abstractmethod\n",
        "  def calculate_features(self, *args, **kwargs) -> Tuple[float, float, float, float]:\n",
        "    pass\n"
      ],
      "metadata": {
        "id": "EHCLV4uq5EOD"
      },
      "execution_count": 6,
      "outputs": []
    },
    {
      "cell_type": "markdown",
      "source": [
        "## Статические признаки"
      ],
      "metadata": {
        "id": "mRNGGgGt5S7N"
      }
    },
    {
      "cell_type": "markdown",
      "source": [
        "### Алгоритм вычисления"
      ],
      "metadata": {
        "id": "H9HD57SiqE7W"
      }
    },
    {
      "cell_type": "code",
      "source": [
        "class StaticStrategy(CalculationStrategy):\n",
        "\n",
        "  def common_neighbors(self, nbhs1: set[T], nbhs2: set[T]) -> float:\n",
        "    return len(nbhs1 & nbhs2)\n",
        "\n",
        "\n",
        "  def adamic_adar(self, graph: nx.Graph, nbhs1: set[T], nbhs2: set[T]) -> float:\n",
        "    CN: set[T] = nbhs1 & nbhs2\n",
        "\n",
        "    _result: float = 0\n",
        "\n",
        "    for nbh in CN:\n",
        "      _result += math.log(len(list(graph.neighbors(nbh))))\n",
        "    if _result:\n",
        "      return 1/_result\n",
        "    return 0\n",
        "\n",
        "\n",
        "  def jaccard_coef(self, nbhs1: set[T], nbhs2: set[T]) -> float:\n",
        "    if  len(nbhs1 | nbhs2):\n",
        "      return len(nbhs1 & nbhs2)/len(nbhs1 | nbhs2)\n",
        "    else:\n",
        "      return 0\n",
        "\n",
        "\n",
        "  def preferential_attachment(self, nbhs1: set[T], nbhs2: set[T]) -> float:\n",
        "    return len(nbhs1) * len(nbhs2)\n",
        "\n",
        "\n",
        "\n",
        "  def calculate_features(self, graph: nx.Graph, u: T, v: T, weightType = None) -> Tuple[float, float, float, float]:\n",
        "    nbhs1: set[T] = set(graph.neighbors(u))\n",
        "    nbhs2: set[T] = set(graph.neighbors(v))\n",
        "    #print('ff')\n",
        "    result = (\n",
        "            self.common_neighbors(nbhs1, nbhs2),\n",
        "            self.adamic_adar(graph, nbhs1, nbhs2),\n",
        "            self.jaccard_coef(nbhs1, nbhs2),\n",
        "            self.preferential_attachment(nbhs1, nbhs2)\n",
        "    )\n",
        "    return  result"
      ],
      "metadata": {
        "id": "er0Z5-yi5XNA"
      },
      "execution_count": 7,
      "outputs": []
    },
    {
      "cell_type": "markdown",
      "source": [
        "### Класс для хранения признаков ребра"
      ],
      "metadata": {
        "id": "y6qOlfmkoRjv"
      }
    },
    {
      "cell_type": "code",
      "source": [
        "class EdgeFeatures:\n",
        "  def __init__(self, strategy: CalculationStrategy, CN: float = None, AA: float = None, JC: float = None, PA: float = None):\n",
        "    self.strategy = strategy\n",
        "    self.CN = CN\n",
        "    self.AA = AA\n",
        "    self.JC = JC\n",
        "    self.PA = PA\n",
        "\n",
        "  def updateValues(self, graph: nx.Graph, u: T, v: T, weightType = None):\n",
        "    #print(self.CN, self.AA, self.JC, self.PA)\n",
        "    result = self.strategy.calculate_features(graph, u, v, weightType)\n",
        "    [self.CN, self.AA, self.JC, self.PA] = result\n",
        "    #print(self.CN, self.AA, self.JC, self.PA)\n",
        "\n",
        "  def getFeatures(self) -> Tuple[float, float, float, float]:\n",
        "    return [self.CN, self.AA, self.JC, self.PA]\n"
      ],
      "metadata": {
        "id": "E-Pnxec-56vM"
      },
      "execution_count": 8,
      "outputs": []
    },
    {
      "cell_type": "markdown",
      "source": [
        "## Темпоральные признаки\n",
        "\n"
      ],
      "metadata": {
        "id": "hbmHndXQZdI1"
      }
    },
    {
      "cell_type": "markdown",
      "source": [
        "### Вес + признаки + дополнительные метрики для мультиграфов"
      ],
      "metadata": {
        "id": "7vUyMzDMcd-n"
      }
    },
    {
      "cell_type": "code",
      "source": [
        "class WeightedVec(EdgeFeatures):\n",
        "  def __init__(self, weight: float, CN = None, AA = None, JC = None, PA = None, Q0: float = None, Q1: float = None, Q2: float = None, Q3: float = None, Q4: float = None, summarized: float = None, meaned: float = None, varianced: float = None):\n",
        "    self.weight = weight\n",
        "    self.strategy = TemporalStrategy()\n",
        "    super().__init__(CN, AA, JC, PA, self.strategy)\n",
        "    self.Q0 = Q0,\n",
        "    self.Q1 = Q1,\n",
        "    self.Q2 = Q2,\n",
        "    self.Q3 = Q3,\n",
        "    self.Q4 = Q4,\n",
        "    self.summarized = summarized,\n",
        "    self.meaned = meaned,\n",
        "    self.varianced = varianced\n"
      ],
      "metadata": {
        "id": "y6-lxZ4NPcjf"
      },
      "execution_count": 20,
      "outputs": []
    },
    {
      "cell_type": "markdown",
      "source": [
        "### Вычисление весов"
      ],
      "metadata": {
        "id": "-hwgN30Uo2ZI"
      }
    },
    {
      "cell_type": "code",
      "source": [
        "def w_length(timestamp: int, time_min: int, time_max: int, l: float) -> float:\n",
        "  return l + (1 - l) * (timestamp - time_min) / (time_max - time_min)\n",
        "\n",
        "def w_exp(timestamp: int, time_min: int, time_max: int, l: float) -> float:\n",
        "  return l + (1 - l) * math.e**(3*(timestamp - time_min) / (time_max - time_min) - 1) / (math.e**(3)-1)\n",
        "\n",
        "def w_root(timestamp: int, time_min: int, time_max: int, l: float) -> float:\n",
        "  return l + (1 - l) * math.sqrt((timestamp - time_min) / (time_max - time_min))\n",
        "\n",
        "\n",
        "\n",
        "def calculate_weights(time: int, l) -> dict[str, WeightedVec]:\n",
        "    weights = {\n",
        "        'w_length': WeightedVec(w_length(time, time_min, time_max, l)),\n",
        "        'w_exp' : WeightedVec(w_exp(time, time_min, time_max, l)),\n",
        "        'w_root':  WeightedVec(w_root(time, time_min, time_max, l))\n",
        "    }\n",
        "    return weights"
      ],
      "metadata": {
        "id": "KT4euQIzLKsa"
      },
      "execution_count": 21,
      "outputs": []
    },
    {
      "cell_type": "markdown",
      "source": [
        "### Алгоритм вычисления"
      ],
      "metadata": {
        "id": "KN9lcu8Fo4_z"
      }
    },
    {
      "cell_type": "code",
      "source": [
        "class TemporalStrategy(CalculationStrategy):\n",
        "\n",
        "\n",
        "  def common_neighbors(self, graph: nx.Graph, node_1: T, node_2: T, weightType: str) -> float:\n",
        "\n",
        "    CN = set(graph.neighbors(node_1)) & set(graph.neighbors(node_2))\n",
        "    result = 0\n",
        "\n",
        "    for node_CN in CN:\n",
        "      result += graph.get_edge_data(node_1, node_CN)[weightType].weight\n",
        "      result += graph.get_edge_data(node_2, node_CN)[weightType].weight\n",
        "\n",
        "    return result\n",
        "\n",
        "\n",
        "  def adamic_adar(self, graph: nx.Graph, node_1: T, node_2: T, weightType: str) -> float:\n",
        "\n",
        "    CN = set(graph.neighbors(node_1)) & set(graph.neighbors(node_2))\n",
        "\n",
        "    result = 0\n",
        "\n",
        "    for node_CN in CN:\n",
        "      wtfu = graph.get_edge_data(node_1, node_CN)[weightType].weight\n",
        "      wtfv = graph.get_edge_data(node_2, node_CN)[weightType].weight\n",
        "      numenator = wtfv + wtfu\n",
        "\n",
        "      node_CN_neighbors = graph.neighbors(node_CN)\n",
        "\n",
        "      wtfz = 0\n",
        "      for nbh_of_nbh in node_CN_neighbors:\n",
        "        wtfz += graph.get_edge_data(node_CN, nbh_of_nbh)[weightType].weight\n",
        "      denominator = math.log(1 + wtfz)\n",
        "\n",
        "      result += numenator/denominator\n",
        "    return result\n",
        "\n",
        "\n",
        "  def jaccard_coef(self, graph: nx.Graph, node_1: T, node_2: T, weightType: str) -> float:\n",
        "    CN = set(graph.neighbors(node_1)) & set(graph.neighbors(node_2))\n",
        "    result = 0\n",
        "\n",
        "    for node_CN in CN:\n",
        "      numenator = 0\n",
        "      denumenator = 0\n",
        "\n",
        "      numenator += graph.get_edge_data(node_1, node_CN)[weightType].weight\n",
        "      numenator += graph.get_edge_data(node_2, node_CN)[weightType].weight\n",
        "\n",
        "      node_1_neighbors = graph.neighbors(node_1)\n",
        "      node_2_neighbors = graph.neighbors(node_2)\n",
        "      wtfx = 0\n",
        "      wtfy = 0\n",
        "\n",
        "      for n_1_nbh in node_1_neighbors:\n",
        "        wtfx +=  graph.get_edge_data(node_1, n_1_nbh)[weightType].weight\n",
        "      for n_2_nbh in node_2_neighbors:\n",
        "        wtfy +=  graph.get_edge_data(node_2, n_2_nbh)[weightType].weight\n",
        "\n",
        "      denumenator = wtfx + wtfy\n",
        "      result += numenator/denumenator\n",
        "\n",
        "\n",
        "    return result\n",
        "\n",
        "\n",
        "  def preferential_attachment(self, graph: nx.Graph, node_1: T, node_2: T, weightType: str) -> float:\n",
        "    wtfu = 0\n",
        "    wtfv = 0\n",
        "\n",
        "\n",
        "    for n_1_nbh in graph.neighbors(node_1):\n",
        "      result = graph.get_edge_data(node_1, n_1_nbh)[weightType].weight\n",
        "      wtfu += result\n",
        "\n",
        "    for n_2_nbh in graph.neighbors(node_2):\n",
        "      result = graph.get_edge_data(node_2, n_2_nbh)[weightType].weight\n",
        "      wtfv += result\n",
        "\n",
        "    return wtfu * wtfv\n",
        "\n",
        "\n",
        "  def calculate_features(self, graph: nx.Graph, node_1: T, node_2: T, weightType: str) -> Tuple[float, float, float, float]:\n",
        "\n",
        "          return (\n",
        "              self.common_neighbors(graph, node_1, node_2, weightType),\n",
        "              self.adamic_adar(graph, node_1, node_2, weightType),\n",
        "              self.jaccard_coef(graph, node_1, node_2, weightType),\n",
        "              self.preferential_attachment(graph, node_1, node_2, weightType)\n",
        "          )"
      ],
      "metadata": {
        "id": "YyLYTql6PjFs"
      },
      "execution_count": 22,
      "outputs": []
    },
    {
      "cell_type": "markdown",
      "source": [
        "### Модель взвешенного ребра"
      ],
      "metadata": {
        "id": "AL0okSsEpFbI"
      }
    },
    {
      "cell_type": "code",
      "source": [
        "class WeightedEdge:\n",
        "  def __init__(self, node1: T, node2: T, weight: float):\n",
        "    self.node1 = node1\n",
        "    self.node2 = node2\n",
        "    self.weight = weight"
      ],
      "metadata": {
        "id": "4eth8wPcUbvt"
      },
      "execution_count": 23,
      "outputs": []
    },
    {
      "cell_type": "markdown",
      "source": [
        "# Обучение"
      ],
      "metadata": {
        "id": "zadcst3V-MVq"
      }
    },
    {
      "cell_type": "code",
      "source": [
        "def calculateMLData(graph: nx.Graph, u: T, v: T, strategy: CalculationStrategy, data: List[Tuple[float, float, float, float]], labels: List[Literal[0,1]], labelValue: Literal[0,1], weightType: str = None):\n",
        "  edgeFts = EdgeFeatures(strategy)\n",
        "  edgeFts.updateValues(graph, u, v, weightType)\n",
        "  data.append(edgeFts.getFeatures())\n",
        "  labels.append(labelValue)\n"
      ],
      "metadata": {
        "id": "6avl8VvZi412"
      },
      "execution_count": 28,
      "outputs": []
    },
    {
      "cell_type": "code",
      "source": [
        "def parseEdges(graph: nx.Graph, edges, strategy: CalculationStrategy, data: List[Tuple[float, float, float, float]], labels: List[Literal[0, 1]], N_store:dict[str, int], weightType: str = None, ):\n",
        "  for u, v in edges:\n",
        "    calculateMLData(graph, u, v, strategy, data, labels, 1, weightType)\n",
        "\n",
        "  N_store['N'] = len(labels)\n",
        "\n"
      ],
      "metadata": {
        "id": "SSFs1TBli4tt"
      },
      "execution_count": 27,
      "outputs": []
    },
    {
      "cell_type": "code",
      "source": [
        "def parseNonEdges(graph: nx.Graph, nonEdges, strategy: CalculationStrategy, data: List[Tuple[float, float, float, float]], labels: List[Literal[0, 1]], N_store: dict[str, int], weightType: str = None, ):\n",
        "  i = 0\n",
        "  for u, v in nonEdges:\n",
        "    i += 1\n",
        "    calculateMLData(graph, u, v, strategy, data, labels, 0, weightType)\n",
        "    if i >= N_store['N']:\n",
        "      break"
      ],
      "metadata": {
        "id": "EiKau9leDeEK"
      },
      "execution_count": 26,
      "outputs": []
    },
    {
      "cell_type": "code",
      "source": [
        "def learnStaticModel(graph: nx.Graph, edu_graph: nx.Graph, test_graph: nx.Graph, strategy: CalculationStrategy, N_store: dict[str, int], weightType: str = None):\n",
        "  data_learn = []\n",
        "  labels_learn = []\n",
        "  data_test = []\n",
        "  labels_test = []\n",
        "\n",
        "  # обучающие данные\n",
        "  %print('x')\n",
        "  parseEdges(edu_graph, edu_graph.edges(), strategy, data_learn, labels_learn, N_store, weightType)\n",
        "  edu_non_edges = list(nx.non_edges(edu_graph))\n",
        "  random.shuffle(edu_non_edges) # Перемешивание списка\n",
        "  %print('y')\n",
        "  sliced_labels = labels_learn[N_store['N']:]\n",
        "\n",
        "  parseNonEdges(edu_F, edu_non_edges, strategy, data_learn, labels_learn, N_store, weightType)\n",
        "\n",
        "  test_non_edges = [item for item in list(nx.non_edges(graph)) if item not in sliced_labels]\n",
        "\n",
        "  # тестовые данные\n",
        "  parseEdges(edu_graph, test_graph.edges(), strategy, data_test, labels_test, N_store, weightType)\n",
        "  parseNonEdges(edu_graph, test_non_edges, strategy, data_test, labels_test, N_store, weightType)\n",
        "\n",
        "  # Преобразуем в DataFrame\n",
        "  df_train = pd.DataFrame(data_learn, columns=['CN_st','AA_st','JC_st','PA_st'])\n",
        "  y_train = np.array(labels_learn)\n",
        "\n",
        "  df_test = pd.DataFrame(data_test, columns=['CN_st','AA_st','JC_st','PA_st'])\n",
        "  y_test = np.array(labels_test)\n",
        "  # Разделите данные\n",
        "  X_train = df_train  # Первые % для обучения\n",
        "  X_test = df_test\n",
        "\n",
        "\n",
        "  # Создание и обучение модели логистической регрессии\n",
        "  model: LogisticRegression = LogisticRegression()\n",
        "  model.fit(X_train, y_train)\n",
        "  # Предсказание на тестовой выборке\n",
        "  y_pred = model.predict(X_test)\n",
        "  # Оценка модели\n",
        "  accuracy = accuracy_score(y_test, y_pred)\n",
        "  return (model, X_train, y_train, X_test, y_test, y_pred)"
      ],
      "metadata": {
        "id": "DjglKQebhmYO"
      },
      "execution_count": 30,
      "outputs": []
    },
    {
      "cell_type": "markdown",
      "source": [
        "### Отрисовка графика"
      ],
      "metadata": {
        "id": "gNB1GIeZGW6Y"
      }
    },
    {
      "cell_type": "code",
      "source": [
        "def ROC_AUC(model: LogisticRegression, x_test, y_test, ft_type: str):\n",
        "  y_scores = model.predict_proba(X_test)[:, 1]  # Вероятности положительного класса\n",
        "\n",
        "  # Вычисляем ROC-кривую\n",
        "  fpr, tpr, thresholds = roc_curve(y_test, y_scores)\n",
        "  roc_auc = auc(fpr, tpr)\n",
        "\n",
        "  # Построение ROC-кривой\n",
        "  plt.figure()\n",
        "  plt.plot(fpr, tpr, color='blue', label='ROC curve (area = {:.2f})'.format(roc_auc))\n",
        "  plt.plot([0, 1], [0, 1], color='red', linestyle='--')\n",
        "  plt.xlim([0.0, 1.0])\n",
        "  plt.ylim([0.0, 1.0])\n",
        "  plt.xlabel('False Positive Rate')\n",
        "  plt.ylabel('True Positive Rate')\n",
        "  plt.title('Receiver Operating Characteristic')\n",
        "  plt.legend(loc='lower right')\n",
        "  plt.grid()\n",
        "  plt.savefig(f'AUC_{ft_type}')\n",
        "  plt.show()"
      ],
      "metadata": {
        "id": "YTMFx2doiuYl"
      },
      "execution_count": 17,
      "outputs": []
    },
    {
      "cell_type": "markdown",
      "source": [
        "# Вычисления"
      ],
      "metadata": {
        "id": "T8yPKtVIpNKo"
      }
    },
    {
      "cell_type": "code",
      "source": [
        "temporalStrategy = TemporalStrategy()\n",
        "staticStrategy = StaticStrategy()\n",
        "\n",
        "l = 0.2\n",
        "\n",
        "for edge in edu_F.edges:\n",
        "  # Расчёт весов\n",
        "  edu_F.add_edge(edge[0], edge[1], **calculate_weights(edu_F.get_edge_data(edge[0], edge[1])['timestamp'], l = 0.2))\n",
        "\n",
        "  N_store: dict[str, int] = {\n",
        "    'N': None\n",
        "  }\n",
        "\n",
        "(model, X_train, y_train, X_test, y_test, y_pred) = learnStaticModel(F, edu_F, test_F, staticStrategy, N_store)\n",
        "ROC_AUC(model, X_test, y_test,'static')"
      ],
      "metadata": {
        "id": "3hWI_aZ7Ucer",
        "colab": {
          "base_uri": "https://localhost:8080/",
          "height": 507
        },
        "outputId": "7bdd54a4-dceb-4780-e67f-8e9f0f7e6d65"
      },
      "execution_count": 31,
      "outputs": [
        {
          "output_type": "stream",
          "name": "stdout",
          "text": [
            "x\n",
            "y\n"
          ]
        },
        {
          "output_type": "display_data",
          "data": {
            "text/plain": [
              "<Figure size 640x480 with 1 Axes>"
            ],
            "image/png": "[encoded data removed]"
          },
          "metadata": {}
        }
      ]
    },
    {
      "cell_type": "markdown",
      "source": [
        "# outdated"
      ],
      "metadata": {
        "id": "LcXFGAJznfhF"
      }
    },
    {
      "cell_type": "code",
      "source": [
        "'''#статический граф\n",
        "data_st = []\n",
        "labels_st = []\n",
        "\n",
        "labels_test = []\n",
        "data_test = []\n",
        "#===============================================================================\n",
        "for u, v in edu_F.edges():\n",
        "  cf = staticStrategy.calculate_features(edu_F,set(edu_F.neighbors(u)),set(edu_F.neighbors(v)))\n",
        "  data_st.append([cf['AA_st'], cf['CN_st'], cf['JC_st'], cf['PA_st']])\n",
        "  labels_st.append(1)  # Ребро существует\n",
        "N = len(labels_st)\n",
        "# Добавим примеры отсутствующих ребер\n",
        "non_edges = list(nx.non_edges(edu_F))\n",
        "random.shuffle(non_edges) # Перемешивание списка\n",
        "\n",
        "pre_non_edges_test = list(nx.non_edges(F))\n",
        "non_edges_test = [item for item in pre_non_edges_test if item not in labels_st[N:]] # <========= считаем длину labels до рассчета НЕребер, верно?\n",
        "i = 0 # счетчик\n",
        "for u, v in non_edges:\n",
        "  i+=1\n",
        "  cf = staticStrategy.calculate_features(edu_F,set(edu_F.neighbors(u)),set(edu_F.neighbors(v)))\n",
        "  data_st.append([cf['AA_st'],cf['CN_st'], cf['JC_st'], cf['PA_st']])\n",
        "  labels_st.append(0)  # Ребро отсутствует\n",
        "  if i >= N:\n",
        "    break\n",
        "#===============================================================================\n",
        "\n",
        "for u, v in test_F.edges():\n",
        "  cf = staticStrategy.calculate_features(edu_F,set(edu_F.neighbors(u)),set(edu_F.neighbors(v)))\n",
        "  data_test.append([cf['AA_st'],cf['CN_st'], cf['JC_st'], cf['PA_st']])\n",
        "  labels_test.append(1)  # Ребро существует\n",
        "i = 0 # счетчик\n",
        "for u, v in non_edges_test:# Добавим примеры отсутствующих ребер\n",
        "  i+=1\n",
        "  cf = staticStrategy.calculate_features(edu_F,set(edu_F.neighbors(u)),set(edu_F.neighbors(v)))\n",
        "  data_test.append([cf['AA_st'],cf['CN_st'], cf['JC_st'], cf['PA_st']])\n",
        "  labels_test.append(0)  # Ребро отсутствует\n",
        "  if i > N:\n",
        "    break'''"
      ],
      "metadata": {
        "id": "XFdU4LQC-P7y"
      },
      "execution_count": null,
      "outputs": []
    },
    {
      "cell_type": "code",
      "source": [
        "'''# Преобразуем в DataFrame\n",
        "df = pd.DataFrame(data_st, columns=['AA_st','CN_st','JC_st','PA_st'])\n",
        "y_train = np.array(labels_st)\n",
        "\n",
        "df_test = pd.DataFrame(data_test, columns=['AA_st','CN_st','JC_st','PA_st'])\n",
        "y_test = np.array(labels_test)\n",
        "\n",
        "# Разделите данные\n",
        "X_train = df  # Первые % для обучения\n",
        "X_test = df_test\n",
        "\n",
        "\n",
        "# Создание и обучение модели логистической регрессии\n",
        "model = LogisticRegression()\n",
        "model.fit(X_train, y_train)\n",
        "# Предсказание на тестовой выборке\n",
        "y_pred = model.predict(X_test)\n",
        "# Оценка модели\n",
        "accuracy = accuracy_score(y_test, y_pred)\n",
        "\n",
        "accuracy'''"
      ],
      "metadata": {
        "id": "2RO78sQnA-xP"
      },
      "execution_count": null,
      "outputs": []
    },
    {
      "cell_type": "markdown",
      "source": [
        "## **ROC AUC**"
      ],
      "metadata": {
        "id": "sfhkU9z9ASKd"
      }
    },
    {
      "cell_type": "code",
      "source": [
        "'''\n",
        "\n",
        "y_scores = model.predict_proba(X_test)[:, 1]  # Вероятности положительного класса\n",
        "\n",
        "# Вычисляем ROC-кривую\n",
        "fpr, tpr, thresholds = roc_curve(y_test, y_scores)\n",
        "roc_auc = auc(fpr, tpr)\n",
        "\n",
        "# Построение ROC-кривой\n",
        "plt.figure()\n",
        "plt.plot(fpr, tpr, color='blue', label='ROC curve (area = {:.2f})'.format(roc_auc))\n",
        "plt.plot([0, 1], [0, 1], color='red', linestyle='--')\n",
        "plt.xlim([0.0, 1.0])\n",
        "plt.ylim([0.0, 1.0])\n",
        "plt.xlabel('False Positive Rate')\n",
        "plt.ylabel('True Positive Rate')\n",
        "plt.title('Receiver Operating Characteristic')\n",
        "plt.legend(loc='lower right')\n",
        "plt.grid()\n",
        "plt.savefig('AUC_static')\n",
        "plt.show()'''"
      ],
      "metadata": {
        "id": "NhQM78KGAQbi"
      },
      "execution_count": null,
      "outputs": []
    },
    {
      "cell_type": "markdown",
      "source": [
        "## Обучение темпорального графа"
      ],
      "metadata": {
        "id": "HKLh-aUyciSE"
      }
    },
    {
      "cell_type": "code",
      "source": [
        "'''data_tp = []\n",
        "labels_tp = []\n",
        "\n",
        "labels_test = []\n",
        "data_test = []\n",
        "\n",
        "#===============================================================================\n",
        "for u, v in edu_F.edges():\n",
        "    tf = temporalStrategy.calculate_features(edu_F,u,v,'w_length')\n",
        "    data_tp.append(tf)\n",
        "    labels_tp.append(1)\n",
        "N = len(labels_tp)\n",
        "\n",
        "i = 0\n",
        "for u,v in non_edges:\n",
        "    i+=1\n",
        "    tf= temporalStrategy.calculate_features(edu_F,u,v,'w_length')\n",
        "    data_tp.append(tf)\n",
        "    labels_tp.append(0)\n",
        "    if i>=N:\n",
        "      break\n",
        "\n",
        "# Преобразуем в DataFrame\n",
        "df = pd.DataFrame(data_tp, columns=['AA','CN','JC','PA'])\n",
        "#print(df)\n",
        "y_train = np.array(labels_st)\n",
        "\n",
        "#===============================================================================\n",
        "for u, v in test_F.edges():\n",
        "    tf = temporalStrategy.calculate_features(edu_F,u,v,'w_length')\n",
        "    data_test.append(tf)\n",
        "    labels_test.append(1)\n",
        "\n",
        "N = len(labels_test)\n",
        "i = 0\n",
        "for u,v in non_edges_test:\n",
        "    i+=1\n",
        "    tf= temporalStrategy.calculate_features(edu_F,u,v,'w_length')\n",
        "    data_test.append(tf)\n",
        "    labels_test.append(0)\n",
        "    if i>=N:\n",
        "      break\n",
        "\n",
        "# Преобразуем в DataFrame\n",
        "df_test = pd.DataFrame(data_test, columns=['AA','CN','JC','PA'])\n",
        "#print(df)\n",
        "y_test = np.array(labels_test)\n",
        "\n",
        "X_train = df  # Первые % для обучения\n",
        "X_test = df_test\n",
        "\n",
        "# Создание и обучение модели логистической регрессии\n",
        "model = LogisticRegression()\n",
        "model.fit(X_train, y_train)\n",
        "y_scores = model.predict_proba(X_test)[:, 1]  # Вероятности положительного класса\n",
        "\n",
        "# Вычисляем ROC-кривую\n",
        "fpr, tpr, thresholds = roc_curve(y_test, y_scores)\n",
        "roc_auc = auc(fpr, tpr)\n",
        "\n",
        "# Построение ROC-кривой\n",
        "plt.figure()\n",
        "plt.plot(fpr, tpr, color='blue', label='ROC curve (area = {:.2f})'.format(roc_auc))\n",
        "plt.plot([0, 1], [0, 1], color='red', linestyle='--')\n",
        "plt.xlim([0.0, 1.0])\n",
        "plt.ylim([0.0, 1.0])\n",
        "plt.xlabel('False Positive Rate')\n",
        "plt.ylabel('True Positive Rate')\n",
        "plt.title('Receiver Operating Characteristic')\n",
        "plt.legend(loc='lower right')\n",
        "plt.grid()\n",
        "plt.savefig('AUC_temporal')\n",
        "plt.show()'''"
      ],
      "metadata": {
        "id": "Iv_roj1VbSvT"
      },
      "execution_count": null,
      "outputs": []
    },
    {
      "cell_type": "code",
      "source": [
        "'''edu_F = nx.Graph()\n",
        "test_F = nx.Graph()\n",
        "\n",
        "pairs = []\n",
        "\n",
        "for node in F.nodes():\n",
        "    # Находим соседей узла\n",
        "    neighbors = list(F.neighbors(node))\n",
        "    for neighbor in neighbors:\n",
        "        # Ищем соседей соседей (узлы на расстоянии 2)\n",
        "        second_neighbors = list(F.neighbors(neighbor))\n",
        "        for second_neighbor in second_neighbors:\n",
        "            if second_neighbor != node and second_neighbor not in neighbors:\n",
        "                pairs.append((node, second_neighbor))\n",
        "\n",
        "# Удаляем дубликаты\n",
        "unique_pairs = set(tuple(sorted(pair)) for pair in pairs)\n",
        "\n",
        "# Копирование узлов\n",
        "edu_F.add_nodes_from(F)\n",
        "test_F.add_nodes_from(F)\n",
        "# отбрасывание узлов не входящих в 70-перцентиль\n",
        "for u, v in unique_pairs:\n",
        "    edge_data = F.get_edge_data(u, v)  # Получаем данные ребра\n",
        "    if edge_data is not None:  # Проверяем, существует ли ребро\n",
        "        timestamp = edge_data.get('timestamp')  # Получаем атрибут 'timestamp'\n",
        "        if timestamp is not None:  # Проверяем, что атрибут существует\n",
        "            print(timestamp)\n",
        "            if timestamp <= time_percentile:\n",
        "                edu_F.add_edge(u, v, timestamp=timestamp)\n",
        "            else:\n",
        "                test_F.add_edge(u, v, timestamp=timestamp)\n",
        "                '''"
      ],
      "metadata": {
        "id": "FufDdlKF8-qL"
      },
      "execution_count": null,
      "outputs": []
    }
  ]
}